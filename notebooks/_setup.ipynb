{
 "cells": [
  {
   "cell_type": "markdown",
   "metadata": {},
   "source": [
    "# Basic setup for all notebooks\n",
    "\n",
    "Import commonly-used packages, setup for making maps, setup file structure, read in some basic buoy information.\n",
    "\n",
    "This notebook is read in by other notebooks; it is not meant to be run alone."
   ]
  },
  {
   "cell_type": "code",
   "execution_count": null,
   "metadata": {
    "collapsed": true
   },
   "outputs": [],
   "source": [
    "import matplotlib.pyplot as plt\n",
    "%matplotlib inline\n",
    "import pandas as pd\n",
    "pd.set_option('max_rows', 6)  # max number of rows to show in this notebook — to save space!\n",
    "from matplotlib.dates import date2num\n",
    "import numpy as np\n",
    "import cartopy\n",
    "from cartopy.mpl.gridliner import LONGITUDE_FORMATTER, LATITUDE_FORMATTER\n",
    "import cmocean.cm as cmo\n",
    "import os\n",
    "from collections import OrderedDict\n",
    "import matplotlib as mpl\n",
    "mpl.rcParams['font.size'] = 14\n",
    "from scipy.optimize import curve_fit\n",
    "import shapely\n",
    "import shapely.ops\n",
    "import tabs\n",
    "import xarray as xr\n",
    "from shutil import unpack_archive"
   ]
  },
  {
   "cell_type": "code",
   "execution_count": null,
   "metadata": {
    "collapsed": true
   },
   "outputs": [],
   "source": [
    "land_10m = cartopy.feature.NaturalEarthFeature('physical', 'land', '10m',\n",
    "                                        edgecolor='face',\n",
    "                                        facecolor='0.8')\n",
    "coast_10m = cartopy.feature.NaturalEarthFeature('physical', 'coastline', '10m',\n",
    "                                        edgecolor='k',\n",
    "                                        facecolor='none')\n",
    "landwater_10m = cartopy.feature.NaturalEarthFeature('physical', 'rivers_north_america', '10m',\n",
    "                                        edgecolor='k',\n",
    "                                        facecolor='none')\n",
    "states_provinces = cartopy.feature.NaturalEarthFeature(\n",
    "    category='cultural',\n",
    "    name='admin_1_states_provinces_lines',\n",
    "    scale='10m',\n",
    "    facecolor='none')\n",
    "pc = cartopy.crs.PlateCarree()\n",
    "merc = cartopy.crs.Mercator(central_longitude=-85.0)\n",
    "aea = cartopy.crs.AlbersEqualArea(central_longitude=-96.0, standard_parallels=(29.5, 45.5), central_latitude=23.0)\n",
    "stereo = cartopy.crs.Stereographic(central_latitude=90, central_longitude=-105, true_scale_latitude=60)\n",
    "# ae = cartopy.crs.AzimuthalEquidistant(central_longitude=-94.9, central_latitude=29.5)\n",
    "\n",
    "watercolor = '#512DA8'\n",
    "props = dict(boxstyle='round', facecolor='w', edgecolor='w', alpha=0.8)\n",
    "\n",
    "b = '../data/'\n",
    "baseb = b + 'bathy/'\n",
    "basesf = b + 'shapefiles/'\n",
    "based = b + 'stations/'\n",
    "baset = b + 'twdb/'\n",
    "baser = b + 'rain/'\n",
    "\n",
    "# create directories\n",
    "os.makedirs('../figures', exist_ok=True)\n",
    "os.makedirs(baseb, exist_ok=True)\n",
    "os.makedirs(baser, exist_ok=True)"
   ]
  },
  {
   "cell_type": "code",
   "execution_count": null,
   "metadata": {
    "collapsed": true
   },
   "outputs": [],
   "source": [
    "date_ssh = pd.Timestamp('2017-8-24 16:00')  # when sea surface starts to raise\n",
    "date_outflow = pd.Timestamp('2017-8-26 10:00')  # when salinity starts to drop, based on outflow calculation\n",
    "date_endoutflow = pd.Timestamp('2017-9-8 19:00')"
   ]
  },
  {
   "cell_type": "code",
   "execution_count": null,
   "metadata": {
    "collapsed": true
   },
   "outputs": [],
   "source": [
    "run buoy_info.py"
   ]
  },
  {
   "cell_type": "code",
   "execution_count": null,
   "metadata": {
    "collapsed": true
   },
   "outputs": [],
   "source": [
    "# TWDB watershed basin ids for Galveston Bay\n",
    "idgb = [10120, 10030, 10111, 10101, 10040, 10100, 10110, 10020, 8110, 10081, 10091, 10074, 10061, 10062, 11021, \n",
    "       11092, 11081, 11080, 11070, 11094, 24240, 24245, 24320, 11110, 11124, 11122, 24390, 24230, 24210, 24220,\n",
    "       11030, 11040, 11010, 11003, 24250, 11150, 11130, 11020, 10066, 10050, 24260, 10060, 10075, 10073, 10064,\n",
    "       10065, 10063, 10090, 10080, 9030, 8010, 8020, 10010, 9010, 10002, 7050, 7070, 7060, 24235]"
   ]
  },
  {
   "cell_type": "markdown",
   "metadata": {},
   "source": [
    "Read in bathymetry data if it exists. It will exist after `0_process_bathy` notebook is run."
   ]
  },
  {
   "cell_type": "code",
   "execution_count": null,
   "metadata": {
    "collapsed": true
   },
   "outputs": [],
   "source": [
    "fname = '%sbathy.nc' % baseb\n",
    "if os.path.exists(fname):\n",
    "    bathy = xr.open_dataset(fname)"
   ]
  },
  {
   "cell_type": "markdown",
   "metadata": {},
   "source": [
    "Read in station time series data if it exists. It will exist after `1_gather_data` notebook is run."
   ]
  },
  {
   "cell_type": "code",
   "execution_count": null,
   "metadata": {
    "collapsed": true
   },
   "outputs": [],
   "source": [
    "fname = '%sdata.csv' % based\n",
    "if os.path.exists(fname):\n",
    "    df = pd.read_csv(fname, parse_dates=True, index_col=0)\n",
    "    dt = (df.index[1] - df.index[0]).total_seconds()  # time step in seconds\n",
    "    dates = df.index"
   ]
  }
 ],
 "metadata": {
  "kernelspec": {
   "display_name": "Python 3",
   "language": "python",
   "name": "python3"
  },
  "language_info": {
   "codemirror_mode": {
    "name": "ipython",
    "version": 3
   },
   "file_extension": ".py",
   "mimetype": "text/x-python",
   "name": "python",
   "nbconvert_exporter": "python",
   "pygments_lexer": "ipython3",
   "version": "3.6.4"
  }
 },
 "nbformat": 4,
 "nbformat_minor": 2
}
