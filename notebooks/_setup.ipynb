{
 "cells": [
  {
   "cell_type": "markdown",
   "metadata": {},
   "source": [
    "# Basic setup for all notebooks\n",
    "\n",
    "Import commonly-used packages, setup for making maps, setup file structure, read in some basic buoy information.\n",
    "\n",
    "This notebook is read in by other notebooks; it is not meant to be run alone."
   ]
  },
  {
   "cell_type": "code",
   "execution_count": null,
   "metadata": {},
   "outputs": [],
   "source": [
    "import matplotlib.pyplot as plt\n",
    "%matplotlib inline\n",
    "import pandas as pd\n",
    "pd.set_option('max_rows', 6)  # max number of rows to show in this notebook — to save space!\n",
    "from matplotlib.dates import date2num\n",
    "import numpy as np\n",
    "import cartopy\n",
    "from cartopy.mpl.gridliner import LONGITUDE_FORMATTER, LATITUDE_FORMATTER\n",
    "import cmocean.cm as cmo\n",
    "import os\n",
    "from collections import OrderedDict\n",
    "import matplotlib as mpl\n",
    "mpl.rcParams['font.size'] = 14\n",
    "from scipy.optimize import curve_fit\n",
    "import shapely\n",
    "import shapely.ops\n",
    "import tabs\n",
    "import xarray as xr\n",
    "from shutil import unpack_archive\n",
    "from glob import glob\n",
    "from scipy.stats import expon, norm\n",
    "from ast import literal_eval\n",
    "from pandas.plotting import register_matplotlib_converters\n",
    "register_matplotlib_converters()"
   ]
  },
  {
   "cell_type": "code",
   "execution_count": null,
   "metadata": {},
   "outputs": [],
   "source": [
    "land_10m = cartopy.feature.NaturalEarthFeature('physical', 'land', '10m',\n",
    "                                        edgecolor='face',\n",
    "                                        facecolor='0.8')\n",
    "coast_10m = cartopy.feature.NaturalEarthFeature('physical', 'coastline', '10m',\n",
    "                                        edgecolor='k',\n",
    "                                        facecolor='none')\n",
    "landwater_10m = cartopy.feature.NaturalEarthFeature('physical', 'rivers_north_america', '10m',\n",
    "                                        edgecolor='k',\n",
    "                                        facecolor='none')\n",
    "states_provinces = cartopy.feature.NaturalEarthFeature(\n",
    "    category='cultural',\n",
    "    name='admin_1_states_provinces_lines',\n",
    "    scale='10m',\n",
    "    facecolor='none')\n",
    "pc = cartopy.crs.PlateCarree()\n",
    "merc = cartopy.crs.Mercator(central_longitude=-85.0)\n",
    "aea = cartopy.crs.AlbersEqualArea(central_longitude=-96.0, standard_parallels=(29.5, 45.5), central_latitude=23.0)\n",
    "stereo = cartopy.crs.Stereographic(central_latitude=90, central_longitude=-105, true_scale_latitude=60)\n",
    "# ae = cartopy.crs.AzimuthalEquidistant(central_longitude=-94.9, central_latitude=29.5)\n",
    "\n",
    "watercolor = '#512DA8'\n",
    "props = dict(boxstyle='round', facecolor='w', edgecolor='w', alpha=0.8)\n",
    "\n",
    "b = '../data/'\n",
    "baseb = b + 'bathy/'\n",
    "basesf = b + 'shapefiles/'\n",
    "based = b + 'stations/'\n",
    "baset = b + 'twdb/'\n",
    "baser = b + 'rain/'\n",
    "basell = '%s/saved/' % basesf\n",
    "\n",
    "# create directories\n",
    "os.makedirs('../figures', exist_ok=True)\n",
    "os.makedirs(baseb, exist_ok=True)\n",
    "os.makedirs(baser, exist_ok=True)\n",
    "os.makedirs(basell, exist_ok=True)"
   ]
  },
  {
   "cell_type": "code",
   "execution_count": null,
   "metadata": {},
   "outputs": [],
   "source": [
    "date_ssh = pd.Timestamp('2017-8-24 16:00')  # when sea surface starts to raise\n",
    "date_outflow = pd.Timestamp('2017-8-26 10:00')  # when salinity starts to drop, based on outflow calculation\n",
    "date_endoutflow = pd.Timestamp('2017-9-8 19:00')"
   ]
  },
  {
   "cell_type": "code",
   "execution_count": null,
   "metadata": {},
   "outputs": [],
   "source": [
    "run buoy_info.py"
   ]
  },
  {
   "cell_type": "code",
   "execution_count": null,
   "metadata": {},
   "outputs": [],
   "source": [
    "# TWDB watershed basin ids for Galveston Bay\n",
    "idgb = [10120, 10030, 10111, 10101, 10040, 10100, 10110, 10020, 8110, 10081, 10091, 10074, 10061, 10062, 11021, \n",
    "       11092, 11081, 11080, 11070, 11094, 24240, 24245, 24320, 11110, 11124, 11122, 24390, 24230, 24210, 24220,\n",
    "       11030, 11040, 11010, 11003, 24250, 11150, 11130, 11020, 10066, 10050, 24260, 10060, 10075, 10073, 10064,\n",
    "       10065, 10063, 10090, 10080, 9030, 8010, 8020, 10010, 9010, 10002, 7050, 7070, 7060, 24235]"
   ]
  },
  {
   "cell_type": "markdown",
   "metadata": {},
   "source": [
    "Read in TWDB subbasins."
   ]
  },
  {
   "cell_type": "code",
   "execution_count": null,
   "metadata": {},
   "outputs": [],
   "source": [
    "# TWDB river basins\n",
    "twdbshapes = 'galv_ws_nad83_prj_albers_equal_area_conic_USGS'\n",
    "fname = '%s%s/%s.shp' % (basesf, twdbshapes, twdbshapes)\n",
    "reader = cartopy.io.shapereader.Reader(fname)\n",
    "basins = reader.records()\n",
    "shapes_twdbbasins = []  # basins in TWDB inflow estimate\n",
    "shapes_lkhouston = []\n",
    "shapes_bay = []\n",
    "shapes_ungauged = []\n",
    "\n",
    "for basin in basins:  # aea projection\n",
    "       \n",
    "    # save all basins in the inflow estimate\n",
    "    shapes_twdbbasins.append(basin)\n",
    "    \n",
    "    wstype = basin.attributes['WS_type']\n",
    "\n",
    "    # separate out Lake Houston drainage basins\n",
    "    if \"(Lake Houston)\" in wstype: \n",
    "        shapes_lkhouston.append(basin)\n",
    "    elif wstype == 'Bay watershed':\n",
    "        shapes_bay.append(basin)\n",
    "    elif (\"Ungauged\" in wstype) or (\"Ungaged\" in wstype):\n",
    "        shapes_ungauged.append(basin)\n",
    "\n",
    "# outline of twdb basins\n",
    "shapes_twdbbasins_full_aea = shapely.ops.unary_union([shape.geometry for shape in shapes_twdbbasins])\n",
    "\n",
    "# Shape of Lake Houston drainage\n",
    "shapes_lkhouston_full_aea = shapely.ops.unary_union([shape.geometry for shape in shapes_lkhouston])\n",
    "\n",
    "# Shape of Galveston Bay itself\n",
    "shapes_bay_full_aea = shapely.ops.unary_union([shape.geometry for shape in shapes_bay])\n",
    "\n",
    "# Shape of Ungauged modeled region\n",
    "shapes_ungauged_full_aea = shapely.ops.unary_union([shape.geometry for shape in shapes_ungauged])"
   ]
  },
  {
   "cell_type": "markdown",
   "metadata": {},
   "source": [
    "Read in points making up shapes if they exist. They will exist after `00_setup_shapes` notebook is run."
   ]
  },
  {
   "cell_type": "code",
   "execution_count": null,
   "metadata": {},
   "outputs": [],
   "source": [
    "fname = '%s/ll_shapes_gbay_full.txt' % basell\n",
    "if os.path.exists(fname):\n",
    "    ll = np.loadtxt(fname)\n",
    "    shapes_gbay_full = shapely.geometry.Polygon(list(zip(ll[:,0], ll[:,1])))\n",
    "    \n",
    "fname = '%s/ll_shapes_trinity_full.txt' % basell\n",
    "if os.path.exists(fname):\n",
    "    ll = np.loadtxt(fname)\n",
    "    shapes_trinity_full = shapely.geometry.Polygon(list(zip(ll[:,0], ll[:,1])))\n",
    "    \n",
    "fname = '%s/ll_shapes_twdbbasins_full.txt' % basell\n",
    "if os.path.exists(fname):\n",
    "    ll = np.loadtxt(fname)\n",
    "    shapes_twdbbasins_full = shapely.geometry.Polygon(list(zip(ll[:,0], ll[:,1])))\n",
    "    \n",
    "fname = '%s/ll_shapes_lkhouston_full.txt' % basell\n",
    "if os.path.exists(fname):\n",
    "    ll = np.loadtxt(fname)\n",
    "    shapes_lkhouston_full = shapely.geometry.Polygon(list(zip(ll[:,0], ll[:,1])))\n",
    "    \n",
    "fname = '%s/ll_shapes_ungauged_full.txt' % basell\n",
    "if os.path.exists(fname):\n",
    "    ll = np.loadtxt(fname)\n",
    "    shapes_ungauged_full = shapely.geometry.Polygon(list(zip(ll[:,0], ll[:,1])))\n",
    "    \n",
    "fname = '%s/ll_shapes_west_full.txt' % basell\n",
    "if os.path.exists(fname):\n",
    "    ll = np.loadtxt(fname)\n",
    "    shapes_west_full = shapely.geometry.Polygon(list(zip(ll[:,0], ll[:,1])))"
   ]
  },
  {
   "cell_type": "markdown",
   "metadata": {},
   "source": [
    "Read in bathymetry data if it exists. It will exist after `0_process_bathy` notebook is run."
   ]
  },
  {
   "cell_type": "code",
   "execution_count": null,
   "metadata": {},
   "outputs": [],
   "source": [
    "fname = '%sbathy.nc' % baseb\n",
    "if os.path.exists(fname):\n",
    "    bathy = xr.open_dataset(fname)"
   ]
  },
  {
   "cell_type": "markdown",
   "metadata": {},
   "source": [
    "Read in station time series data if it exists. It will exist after `1_gather_data` notebook is run."
   ]
  },
  {
   "cell_type": "code",
   "execution_count": null,
   "metadata": {},
   "outputs": [],
   "source": [
    "fname = '%sdata.csv' % based\n",
    "# fname = '/Volumes/GoogleDrive/My Drive/Documents/papers/inprogress/harvey_inflow/old/old/code/data/stations/data.csv'\n",
    "# fname = '/Volumes/GoogleDrive/My Drive/Documents/papers/inprogress/harvey_inflow/old/old/code/data/oldstations/data2017-15min.csv'\n",
    "if os.path.exists(fname):\n",
    "    df = pd.read_csv(fname, parse_dates=True, index_col=0)\n",
    "    dt = (df.index[1] - df.index[0]).total_seconds()  # time step in seconds\n",
    "    dates = df.index"
   ]
  },
  {
   "cell_type": "markdown",
   "metadata": {},
   "source": [
    "Read in rain indices for regions. This will exist after `1_gather_data` notebook is run."
   ]
  },
  {
   "cell_type": "code",
   "execution_count": null,
   "metadata": {},
   "outputs": [],
   "source": [
    "fname = '%s/radar_rain_combined.nc' % baser\n",
    "if os.path.exists(fname):\n",
    "    rain = xr.open_dataset(fname)"
   ]
  },
  {
   "cell_type": "markdown",
   "metadata": {},
   "source": [
    "Read in rain indices for regions. This will exist after `1_gather_data` notebook is run."
   ]
  },
  {
   "cell_type": "code",
   "execution_count": null,
   "metadata": {},
   "outputs": [],
   "source": [
    "fname = '%s/radar.csv' % baser\n",
    "if os.path.exists(fname):\n",
    "    radar = pd.read_csv(fname, index_col=0)\n",
    "    # literal_eval allows reading in lists from csv file\n",
    "    radar['irain'] = radar['irain'].apply(literal_eval)\n",
    "    radar['rain [m^3]'] = radar['rain [m^3]'].apply(literal_eval)"
   ]
  }
 ],
 "metadata": {
  "kernelspec": {
   "display_name": "Python 3",
   "language": "python",
   "name": "python3"
  },
  "language_info": {
   "codemirror_mode": {
    "name": "ipython",
    "version": 3
   },
   "file_extension": ".py",
   "mimetype": "text/x-python",
   "name": "python",
   "nbconvert_exporter": "python",
   "pygments_lexer": "ipython3",
   "version": "3.7.3"
  }
 },
 "nbformat": 4,
 "nbformat_minor": 2
}
