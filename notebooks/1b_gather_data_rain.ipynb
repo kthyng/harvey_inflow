{
 "cells": [
  {
   "cell_type": "code",
   "execution_count": 1,
   "metadata": {},
   "outputs": [],
   "source": [
    "%run ./_setup.ipynb"
   ]
  },
  {
   "cell_type": "markdown",
   "metadata": {},
   "source": [
    "# Radar rain data"
   ]
  },
  {
   "cell_type": "markdown",
   "metadata": {},
   "source": [
    "## Download radar data for each day of the storm"
   ]
  },
  {
   "cell_type": "code",
   "execution_count": null,
   "metadata": {},
   "outputs": [],
   "source": [
    "# create directory\n",
    "os.makedirs(baser, exist_ok=True)\n",
    "\n",
    "# read in August files\n",
    "days = np.arange(25, 32)\n",
    "for day in days:\n",
    "    url = 'https://water.weather.gov/precip/downloads/2017/08/%i/nws_precip_1day_201708%i_conus.nc' % (day, day)\n",
    "    fname = url.split('/')[-1]\n",
    "\n",
    "    # this will download the file to the present file location\n",
    "    !wget $url\n",
    "    # move it to data directory\n",
    "    %mv $fname $baser\n",
    "    \n",
    "# read in September files\n",
    "days = np.arange(1, 12)\n",
    "for day in days:\n",
    "    url = 'https://water.weather.gov/precip/downloads/2017/09/%s/nws_precip_1day_201709%s_conus.nc' % (str(day).zfill(2), str(day).zfill(2))\n",
    "    fname = url.split('/')[-1]\n",
    "\n",
    "    # this will download the file to the present file location\n",
    "    !wget $url\n",
    "    # move it to data directory\n",
    "    %mv $fname $baser"
   ]
  },
  {
   "cell_type": "markdown",
   "metadata": {},
   "source": [
    "## Read in files and save\n",
    "\n",
    "Select just the area around Texas and save all radar data together into a .nc file."
   ]
  },
  {
   "cell_type": "code",
   "execution_count": null,
   "metadata": {},
   "outputs": [],
   "source": [
    "Files = sorted(glob('%s/nws_precip_1day_20170???_conus.nc' % baser))\n",
    "# File = Files[0]\n",
    "# Read in rain data\n",
    "# ds = xr.open_dataset(File)\n",
    "ds = xr.open_mfdataset(Files, concat_dim='time', combine='nested')\n",
    "\n",
    "\n",
    "# Just save part around Texas\n",
    "lonsharvey = [-90, -90, -100, -100]\n",
    "latsharvey = [35, 25, 25, 35]\n",
    "# convert box into stereo, which is the projection the rain data is in\n",
    "llharveystereo = stereo.transform_points(pc, np.array(lonsharvey), np.array(latsharvey))\n",
    "# save to new file\n",
    "ds2 = ds['observation'].sel(x=slice(llharveystereo[:,0].min(), llharveystereo[:,0].max()),\n",
    "                      y=slice(llharveystereo[:,1].max(), llharveystereo[:,1].min()))\n",
    "                 \n",
    "\n",
    "# Set up x and y locations\n",
    "X, Y = np.meshgrid(ds2['x'].values, ds2['y'].values)\n",
    "\n",
    "# convert x and y locations to aea projection\n",
    "rainaea = aea.transform_points(stereo, X, Y)\n",
    "xrainaea = rainaea[:,:,0]; yrainaea = rainaea[:,:,1]\n",
    "# combine together\n",
    "xrainaea2 = np.hstack(((xrainaea[:,0]-abs(xrainaea[:,0]-xrainaea[:,1]))[:,np.newaxis],xrainaea))\n",
    "yrainaea2 = np.vstack(((yrainaea[0,:]+abs(yrainaea[0,:]-yrainaea[1,:]))[np.newaxis,:],yrainaea))\n",
    "\n",
    "# calculate rain grid cell area\n",
    "da = abs(xrainaea2[:,1:] - xrainaea2[:,:-1]) * abs(yrainaea2[1:,:] - yrainaea2[:-1,:])\n",
    "# change to xarray format\n",
    "da = xr.DataArray(da,coords=[ds2.y,ds2.x],dims=['y','x'])\n",
    "\n",
    "# convert rain array to m^3\n",
    "ds2['rain'] = ds2*2.54/100\n",
    "ds2.attrs = {'units': 'm', 'name': 'radar rain'}\n",
    "ds2['da'] = da\n",
    "ds2.attrs = {'units': 'm^2', 'name': 'grid cell area associated with rain'}\n",
    "\n",
    "fname = '%s/radar_rain_combined.nc' % baser\n",
    "if not os.path.exists(fname):\n",
    "    ds2.to_netcdf(fname)"
   ]
  },
  {
   "cell_type": "markdown",
   "metadata": {},
   "source": [
    "## Separate into regions"
   ]
  },
  {
   "cell_type": "markdown",
   "metadata": {},
   "source": [
    "Create shapely points"
   ]
  },
  {
   "cell_type": "code",
   "execution_count": null,
   "metadata": {},
   "outputs": [],
   "source": [
    "# create Shapely Shapes out of rain grid cells\n",
    "# ds['x'], ds['y']\n",
    "rainpts = []\n",
    "for x, y, a in zip(xrainaea.flatten(), yrainaea.flatten(), da.values.flatten()):\n",
    "    rainpts.append(shapely.geometry.Point(x,y))\n",
    "    \n",
    "# flattened index to match rainpts\n",
    "irainpts = np.arange(len(rainpts))"
   ]
  },
  {
   "cell_type": "markdown",
   "metadata": {},
   "source": [
    "Separate radar rainfall into regions"
   ]
  },
  {
   "cell_type": "code",
   "execution_count": null,
   "metadata": {},
   "outputs": [],
   "source": [
    "# Find rain in each TWDB basin\n",
    "iradar = []  # flattened indices identifying rainpts that are in this region\n",
    "radar = pd.DataFrame(index=idgb + ['west', 'trinity', 'all'])#, data={'radar rain [m^3]': 0})\n",
    "radar['irain'] = [[] for i in range(len(radar.index))]  # to hold list of indices\n",
    "radar['rain [m^3]'] = [[] for i in range(len(radar.index))]  # to hold list of rain input\n",
    "nt = ds2.time.size  # number of timesteps\n",
    "\n",
    "# Loop over TWDB basins first\n",
    "for basin in shapes_twdbbasins:\n",
    "    \n",
    "    # save type\n",
    "    wstype = basin.attributes['WS_type']\n",
    "    if 'Lake Houston' in wstype: \n",
    "        kind = 'Lake Houston (gauged)'\n",
    "    elif 'Ungauged' in wstype or 'Ungaged' in wstype: \n",
    "        kind = 'ungauged'\n",
    "    elif 'Gauged' in wstype or 'Gaged' in wstype: \n",
    "        kind = 'gauged'\n",
    "    elif 'Bay' in wstype: \n",
    "        kind = 'bay'\n",
    "    else:\n",
    "        kind = 'unknown'\n",
    "        \n",
    "    basinid = basin.attributes['WS_ID']\n",
    "\n",
    "    radar.loc[basinid,'kind'] = kind\n",
    "    \n",
    "    for i, rainpt in enumerate(rainpts):  # loop over rain points\n",
    "        if basin.geometry.contains(rainpt):\n",
    "            radar.loc[basinid,'irain'].append(i)\n",
    "    # find radar rain for this region\n",
    "    # reshape to flatten y/x dimensions to use irain indices\n",
    "    inds = radar.loc[basinid, 'irain']\n",
    "    radar.loc[basinid,'rain [m^3]'] = list((ds2['rain'].values*da.values).reshape(nt,-1)[:,inds].sum(axis=1))    \n",
    "            \n",
    "# Add on other regions\n",
    "shapes_west_full_aea = aea.project_geometry(shapes_west_full,pc)\n",
    "basinid = 'west'\n",
    "radar.loc[basinid,'kind'] = 'radar only'\n",
    "for i, rainpt in enumerate(rainpts):  # loop over rain points\n",
    "    if shapes_west_full_aea.contains(rainpt):\n",
    "        radar.loc[basinid,'irain'].append(i)   \n",
    "inds = radar.loc[basinid, 'irain']\n",
    "radar.loc[basinid,'rain [m^3]'] = list((ds2['rain'].values*da.values).reshape(nt,-1)[:,inds].sum(axis=1))\n",
    "\n",
    "shapes_trinity_full_aea = aea.project_geometry(shapes_trinity_full,pc)\n",
    "basinid = 'trinity'\n",
    "radar.loc[basinid,'kind'] = 'gauged (large)'\n",
    "for i, rainpt in enumerate(rainpts):  # loop over rain points\n",
    "    if shapes_trinity_full_aea.contains(rainpt):\n",
    "        radar.loc[basinid,'irain'].append(i)\n",
    "inds = radar.loc[basinid, 'irain']\n",
    "radar.loc[basinid,'rain [m^3]'] = list((ds2['rain'].values*da.values).reshape(nt,-1)[:,inds].sum(axis=1))\n",
    "\n",
    "shapes_gbay_full_aea = aea.project_geometry(shapes_gbay_full,pc)\n",
    "basinid = 'all'\n",
    "radar.loc[basinid,'kind'] = 'all'\n",
    "for i, rainpt in enumerate(rainpts):  # loop over rain points\n",
    "    if shapes_gbay_full_aea.contains(rainpt):\n",
    "        radar.loc[basinid,'irain'].append(i)\n",
    "inds = radar.loc[basinid, 'irain']\n",
    "radar.loc[basinid,'rain [m^3]'] = list((ds2['rain'].values*da.values).reshape(nt,-1)[:,inds].sum(axis=1))\n"
   ]
  },
  {
   "cell_type": "code",
   "execution_count": null,
   "metadata": {},
   "outputs": [],
   "source": [
    "# calculate and save total rain\n",
    "for ind in radar.index:\n",
    "    radar.loc[ind,'rain total [m^3]'] = np.sum(radar.loc[ind,'rain [m^3]'])"
   ]
  },
  {
   "cell_type": "markdown",
   "metadata": {},
   "source": [
    "Save rain indices and calculations for future use"
   ]
  },
  {
   "cell_type": "code",
   "execution_count": null,
   "metadata": {},
   "outputs": [],
   "source": [
    "radar.to_csv('%s/radar.csv' % baser)"
   ]
  }
 ],
 "metadata": {
  "kernelspec": {
   "display_name": "Python 3",
   "language": "python",
   "name": "python3"
  },
  "language_info": {
   "codemirror_mode": {
    "name": "ipython",
    "version": 3
   },
   "file_extension": ".py",
   "mimetype": "text/x-python",
   "name": "python",
   "nbconvert_exporter": "python",
   "pygments_lexer": "ipython3",
   "version": "3.7.3"
  }
 },
 "nbformat": 4,
 "nbformat_minor": 2
}
