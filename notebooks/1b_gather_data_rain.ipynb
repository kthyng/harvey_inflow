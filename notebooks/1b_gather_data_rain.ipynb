{
 "cells": [
  {
   "cell_type": "code",
   "execution_count": 2,
   "metadata": {},
   "outputs": [],
   "source": [
    "%run ./_setup.ipynb"
   ]
  },
  {
   "cell_type": "markdown",
   "metadata": {},
   "source": [
    "# Radar rain data"
   ]
  },
  {
   "cell_type": "markdown",
   "metadata": {},
   "source": [
    "## Download radar data for each day of the storm"
   ]
  },
  {
   "cell_type": "code",
   "execution_count": 3,
   "metadata": {},
   "outputs": [
    {
     "name": "stdout",
     "output_type": "stream",
     "text": [
      "--2019-11-04 10:26:09--  https://water.weather.gov/precip/downloads/2017/08/25/nws_precip_1day_20170825_conus.nc\n",
      "Resolving water.weather.gov (water.weather.gov)... 104.73.167.46\n",
      "Connecting to water.weather.gov (water.weather.gov)|104.73.167.46|:443... connected.\n",
      "HTTP request sent, awaiting response... 200 OK\n",
      "Length: 4051253 (3.9M) [application/x-netcdf]\n",
      "Saving to: ‘nws_precip_1day_20170825_conus.nc’\n",
      "\n",
      "nws_precip_1day_201 100%[===================>]   3.86M  11.9MB/s    in 0.3s    \n",
      "\n",
      "2019-11-04 10:26:09 (11.9 MB/s) - ‘nws_precip_1day_20170825_conus.nc’ saved [4051253/4051253]\n",
      "\n",
      "--2019-11-04 10:26:10--  https://water.weather.gov/precip/downloads/2017/08/26/nws_precip_1day_20170826_conus.nc\n",
      "Resolving water.weather.gov (water.weather.gov)... 104.73.167.46\n",
      "Connecting to water.weather.gov (water.weather.gov)|104.73.167.46|:443... connected.\n",
      "HTTP request sent, awaiting response... 200 OK\n",
      "Length: 3995246 (3.8M) [application/x-netcdf]\n",
      "Saving to: ‘nws_precip_1day_20170826_conus.nc’\n",
      "\n",
      "nws_precip_1day_201 100%[===================>]   3.81M  11.7MB/s    in 0.3s    \n",
      "\n",
      "2019-11-04 10:26:10 (11.7 MB/s) - ‘nws_precip_1day_20170826_conus.nc’ saved [3995246/3995246]\n",
      "\n",
      "--2019-11-04 10:26:10--  https://water.weather.gov/precip/downloads/2017/08/27/nws_precip_1day_20170827_conus.nc\n",
      "Resolving water.weather.gov (water.weather.gov)... 104.73.167.46\n",
      "Connecting to water.weather.gov (water.weather.gov)|104.73.167.46|:443... connected.\n",
      "HTTP request sent, awaiting response... 200 OK\n",
      "Length: 3954637 (3.8M) [application/x-netcdf]\n",
      "Saving to: ‘nws_precip_1day_20170827_conus.nc’\n",
      "\n",
      "nws_precip_1day_201 100%[===================>]   3.77M  7.18MB/s    in 0.5s    \n",
      "\n",
      "2019-11-04 10:26:12 (7.18 MB/s) - ‘nws_precip_1day_20170827_conus.nc’ saved [3954637/3954637]\n",
      "\n",
      "--2019-11-04 10:26:12--  https://water.weather.gov/precip/downloads/2017/08/28/nws_precip_1day_20170828_conus.nc\n",
      "Resolving water.weather.gov (water.weather.gov)... 104.73.167.46\n",
      "Connecting to water.weather.gov (water.weather.gov)|104.73.167.46|:443... connected.\n",
      "HTTP request sent, awaiting response... 200 OK\n",
      "Length: 3972925 (3.8M) [application/x-netcdf]\n",
      "Saving to: ‘nws_precip_1day_20170828_conus.nc’\n",
      "\n",
      "nws_precip_1day_201 100%[===================>]   3.79M  5.33MB/s    in 0.7s    \n",
      "\n",
      "2019-11-04 10:26:13 (5.33 MB/s) - ‘nws_precip_1day_20170828_conus.nc’ saved [3972925/3972925]\n",
      "\n",
      "--2019-11-04 10:26:14--  https://water.weather.gov/precip/downloads/2017/08/29/nws_precip_1day_20170829_conus.nc\n",
      "Resolving water.weather.gov (water.weather.gov)... 104.73.167.46\n",
      "Connecting to water.weather.gov (water.weather.gov)|104.73.167.46|:443... connected.\n",
      "HTTP request sent, awaiting response... 200 OK\n",
      "Length: 3840779 (3.7M) [application/x-netcdf]\n",
      "Saving to: ‘nws_precip_1day_20170829_conus.nc’\n",
      "\n",
      "nws_precip_1day_201 100%[===================>]   3.66M  12.4MB/s    in 0.3s    \n",
      "\n",
      "2019-11-04 10:26:14 (12.4 MB/s) - ‘nws_precip_1day_20170829_conus.nc’ saved [3840779/3840779]\n",
      "\n",
      "--2019-11-04 10:26:15--  https://water.weather.gov/precip/downloads/2017/08/30/nws_precip_1day_20170830_conus.nc\n",
      "Resolving water.weather.gov (water.weather.gov)... 104.73.167.46\n",
      "Connecting to water.weather.gov (water.weather.gov)|104.73.167.46|:443... connected.\n",
      "HTTP request sent, awaiting response... 200 OK\n",
      "Length: 3696823 (3.5M) [application/x-netcdf]\n",
      "Saving to: ‘nws_precip_1day_20170830_conus.nc’\n",
      "\n",
      "nws_precip_1day_201 100%[===================>]   3.53M  12.1MB/s    in 0.3s    \n",
      "\n",
      "2019-11-04 10:26:15 (12.1 MB/s) - ‘nws_precip_1day_20170830_conus.nc’ saved [3696823/3696823]\n",
      "\n",
      "--2019-11-04 10:26:15--  https://water.weather.gov/precip/downloads/2017/08/31/nws_precip_1day_20170831_conus.nc\n",
      "Resolving water.weather.gov (water.weather.gov)... 104.73.167.46\n",
      "Connecting to water.weather.gov (water.weather.gov)|104.73.167.46|:443... connected.\n",
      "HTTP request sent, awaiting response... 200 OK\n",
      "Length: 3826967 (3.6M) [application/x-netcdf]\n",
      "Saving to: ‘nws_precip_1day_20170831_conus.nc’\n",
      "\n",
      "nws_precip_1day_201 100%[===================>]   3.65M  11.8MB/s    in 0.3s    \n",
      "\n",
      "2019-11-04 10:26:16 (11.8 MB/s) - ‘nws_precip_1day_20170831_conus.nc’ saved [3826967/3826967]\n",
      "\n",
      "--2019-11-04 10:26:16--  https://water.weather.gov/precip/downloads/2017/09/01/nws_precip_1day_20170901_conus.nc\n",
      "Resolving water.weather.gov (water.weather.gov)... 104.73.167.46\n",
      "Connecting to water.weather.gov (water.weather.gov)|104.73.167.46|:443... connected.\n",
      "HTTP request sent, awaiting response... 200 OK\n",
      "Length: 3994795 (3.8M) [application/x-netcdf]\n",
      "Saving to: ‘nws_precip_1day_20170901_conus.nc’\n",
      "\n",
      "nws_precip_1day_201 100%[===================>]   3.81M  12.2MB/s    in 0.3s    \n",
      "\n",
      "2019-11-04 10:26:17 (12.2 MB/s) - ‘nws_precip_1day_20170901_conus.nc’ saved [3994795/3994795]\n",
      "\n",
      "--2019-11-04 10:26:17--  https://water.weather.gov/precip/downloads/2017/09/02/nws_precip_1day_20170902_conus.nc\n",
      "Resolving water.weather.gov (water.weather.gov)... 104.73.167.46\n",
      "Connecting to water.weather.gov (water.weather.gov)|104.73.167.46|:443... connected.\n",
      "HTTP request sent, awaiting response... 200 OK\n",
      "Length: 3926171 (3.7M) [application/x-netcdf]\n",
      "Saving to: ‘nws_precip_1day_20170902_conus.nc’\n",
      "\n",
      "nws_precip_1day_201 100%[===================>]   3.74M  12.2MB/s    in 0.3s    \n",
      "\n",
      "2019-11-04 10:26:17 (12.2 MB/s) - ‘nws_precip_1day_20170902_conus.nc’ saved [3926171/3926171]\n",
      "\n",
      "--2019-11-04 10:26:18--  https://water.weather.gov/precip/downloads/2017/09/03/nws_precip_1day_20170903_conus.nc\n",
      "Resolving water.weather.gov (water.weather.gov)... 104.73.167.46\n",
      "Connecting to water.weather.gov (water.weather.gov)|104.73.167.46|:443... connected.\n",
      "HTTP request sent, awaiting response... 200 OK\n",
      "Length: 3682969 (3.5M) [application/x-netcdf]\n",
      "Saving to: ‘nws_precip_1day_20170903_conus.nc’\n",
      "\n",
      "nws_precip_1day_201 100%[===================>]   3.51M  11.5MB/s    in 0.3s    \n",
      "\n",
      "2019-11-04 10:26:18 (11.5 MB/s) - ‘nws_precip_1day_20170903_conus.nc’ saved [3682969/3682969]\n",
      "\n",
      "--2019-11-04 10:26:18--  https://water.weather.gov/precip/downloads/2017/09/04/nws_precip_1day_20170904_conus.nc\n",
      "Resolving water.weather.gov (water.weather.gov)... 104.73.167.46\n",
      "Connecting to water.weather.gov (water.weather.gov)|104.73.167.46|:443... connected.\n",
      "HTTP request sent, awaiting response... 200 OK\n",
      "Length: 3341119 (3.2M) [application/x-netcdf]\n",
      "Saving to: ‘nws_precip_1day_20170904_conus.nc’\n",
      "\n",
      "nws_precip_1day_201 100%[===================>]   3.19M  11.2MB/s    in 0.3s    \n",
      "\n",
      "2019-11-04 10:26:19 (11.2 MB/s) - ‘nws_precip_1day_20170904_conus.nc’ saved [3341119/3341119]\n",
      "\n",
      "--2019-11-04 10:26:19--  https://water.weather.gov/precip/downloads/2017/09/05/nws_precip_1day_20170905_conus.nc\n",
      "Resolving water.weather.gov (water.weather.gov)... 104.73.167.46\n",
      "Connecting to water.weather.gov (water.weather.gov)|104.73.167.46|:443... connected.\n",
      "HTTP request sent, awaiting response... 200 OK\n",
      "Length: 3619575 (3.5M) [application/x-netcdf]\n",
      "Saving to: ‘nws_precip_1day_20170905_conus.nc’\n",
      "\n",
      "nws_precip_1day_201 100%[===================>]   3.45M  11.9MB/s    in 0.3s    \n",
      "\n",
      "2019-11-04 10:26:19 (11.9 MB/s) - ‘nws_precip_1day_20170905_conus.nc’ saved [3619575/3619575]\n",
      "\n",
      "--2019-11-04 10:26:20--  https://water.weather.gov/precip/downloads/2017/09/06/nws_precip_1day_20170906_conus.nc\n",
      "Resolving water.weather.gov (water.weather.gov)... 104.73.167.46\n",
      "Connecting to water.weather.gov (water.weather.gov)|104.73.167.46|:443... connected.\n",
      "HTTP request sent, awaiting response... 200 OK\n",
      "Length: 4042740 (3.9M) [application/x-netcdf]\n",
      "Saving to: ‘nws_precip_1day_20170906_conus.nc’\n",
      "\n",
      "nws_precip_1day_201 100%[===================>]   3.85M  11.4MB/s    in 0.3s    \n",
      "\n",
      "2019-11-04 10:26:20 (11.4 MB/s) - ‘nws_precip_1day_20170906_conus.nc’ saved [4042740/4042740]\n",
      "\n",
      "--2019-11-04 10:26:21--  https://water.weather.gov/precip/downloads/2017/09/07/nws_precip_1day_20170907_conus.nc\n",
      "Resolving water.weather.gov (water.weather.gov)... 104.73.167.46\n",
      "Connecting to water.weather.gov (water.weather.gov)|104.73.167.46|:443... connected.\n",
      "HTTP request sent, awaiting response... 200 OK\n",
      "Length: 3773985 (3.6M) [application/x-netcdf]\n",
      "Saving to: ‘nws_precip_1day_20170907_conus.nc’\n",
      "\n",
      "nws_precip_1day_201 100%[===================>]   3.60M  12.3MB/s    in 0.3s    \n",
      "\n",
      "2019-11-04 10:26:21 (12.3 MB/s) - ‘nws_precip_1day_20170907_conus.nc’ saved [3773985/3773985]\n",
      "\n",
      "--2019-11-04 10:26:21--  https://water.weather.gov/precip/downloads/2017/09/08/nws_precip_1day_20170908_conus.nc\n",
      "Resolving water.weather.gov (water.weather.gov)... 104.73.167.46\n",
      "Connecting to water.weather.gov (water.weather.gov)|104.73.167.46|:443... connected.\n"
     ]
    },
    {
     "name": "stdout",
     "output_type": "stream",
     "text": [
      "HTTP request sent, awaiting response... 200 OK\n",
      "Length: 3533005 (3.4M) [application/x-netcdf]\n",
      "Saving to: ‘nws_precip_1day_20170908_conus.nc’\n",
      "\n",
      "nws_precip_1day_201 100%[===================>]   3.37M  11.9MB/s    in 0.3s    \n",
      "\n",
      "2019-11-04 10:26:22 (11.9 MB/s) - ‘nws_precip_1day_20170908_conus.nc’ saved [3533005/3533005]\n",
      "\n",
      "--2019-11-04 10:26:22--  https://water.weather.gov/precip/downloads/2017/09/09/nws_precip_1day_20170909_conus.nc\n",
      "Resolving water.weather.gov (water.weather.gov)... 104.73.167.46\n",
      "Connecting to water.weather.gov (water.weather.gov)|104.73.167.46|:443... connected.\n",
      "HTTP request sent, awaiting response... 200 OK\n",
      "Length: 3635242 (3.5M) [application/x-netcdf]\n",
      "Saving to: ‘nws_precip_1day_20170909_conus.nc’\n",
      "\n",
      "nws_precip_1day_201 100%[===================>]   3.47M  11.8MB/s    in 0.3s    \n",
      "\n",
      "2019-11-04 10:26:22 (11.8 MB/s) - ‘nws_precip_1day_20170909_conus.nc’ saved [3635242/3635242]\n",
      "\n",
      "--2019-11-04 10:26:23--  https://water.weather.gov/precip/downloads/2017/09/10/nws_precip_1day_20170910_conus.nc\n",
      "Resolving water.weather.gov (water.weather.gov)... 104.73.167.46\n",
      "Connecting to water.weather.gov (water.weather.gov)|104.73.167.46|:443... connected.\n",
      "HTTP request sent, awaiting response... 200 OK\n",
      "Length: 3611759 (3.4M) [application/x-netcdf]\n",
      "Saving to: ‘nws_precip_1day_20170910_conus.nc’\n",
      "\n",
      "nws_precip_1day_201 100%[===================>]   3.44M  8.44MB/s    in 0.4s    \n",
      "\n",
      "2019-11-04 10:26:23 (8.44 MB/s) - ‘nws_precip_1day_20170910_conus.nc’ saved [3611759/3611759]\n",
      "\n",
      "--2019-11-04 10:26:24--  https://water.weather.gov/precip/downloads/2017/09/11/nws_precip_1day_20170911_conus.nc\n",
      "Resolving water.weather.gov (water.weather.gov)... 104.73.167.46\n",
      "Connecting to water.weather.gov (water.weather.gov)|104.73.167.46|:443... connected.\n",
      "HTTP request sent, awaiting response... 200 OK\n",
      "Length: 3394222 (3.2M) [application/x-netcdf]\n",
      "Saving to: ‘nws_precip_1day_20170911_conus.nc’\n",
      "\n",
      "nws_precip_1day_201 100%[===================>]   3.24M  4.16MB/s    in 0.8s    \n",
      "\n",
      "2019-11-04 10:26:25 (4.16 MB/s) - ‘nws_precip_1day_20170911_conus.nc’ saved [3394222/3394222]\n",
      "\n"
     ]
    }
   ],
   "source": [
    "# create directory\n",
    "os.makedirs(baser, exist_ok=True)\n",
    "\n",
    "# read in August files\n",
    "days = np.arange(25, 32)\n",
    "# check for first file\n",
    "if os.path.exists('%s/nws_precip_1day_20170825_conus.nc' % baser):\n",
    "    for day in days:\n",
    "        url = 'https://water.weather.gov/precip/downloads/2017/08/%i/nws_precip_1day_201708%i_conus.nc' % (day, day)\n",
    "        fname = url.split('/')[-1]\n",
    "\n",
    "        # this will download the file to the present file location\n",
    "        !wget $url\n",
    "        # move it to data directory\n",
    "        %mv $fname $baser\n",
    "    \n",
    "# read in September files\n",
    "days = np.arange(1, 12)\n",
    "# check for last file\n",
    "if os.path.exists('%s/nws_precip_1day_20170911_conus.nc' % baser):\n",
    "    for day in days:\n",
    "        url = 'https://water.weather.gov/precip/downloads/2017/09/%s/nws_precip_1day_201709%s_conus.nc' % (str(day).zfill(2), str(day).zfill(2))\n",
    "        fname = url.split('/')[-1]\n",
    "\n",
    "        # this will download the file to the present file location\n",
    "        !wget $url\n",
    "        # move it to data directory\n",
    "        %mv $fname $baser"
   ]
  },
  {
   "cell_type": "markdown",
   "metadata": {},
   "source": [
    "## Read in files and save\n",
    "\n",
    "Select just the area around Texas and save all radar data together into a .nc file."
   ]
  },
  {
   "cell_type": "code",
   "execution_count": 4,
   "metadata": {},
   "outputs": [],
   "source": [
    "Files = sorted(glob('%s/nws_precip_1day_20170???_conus.nc' % baser))\n",
    "# File = Files[0]\n",
    "# Read in rain data\n",
    "# ds = xr.open_dataset(File)\n",
    "ds = xr.open_mfdataset(Files, concat_dim='time', combine='nested')\n",
    "\n",
    "\n",
    "# Just save part around Texas\n",
    "lonsharvey = [-90, -90, -100, -100]\n",
    "latsharvey = [35, 25, 25, 35]\n",
    "# convert box into stereo, which is the projection the rain data is in\n",
    "llharveystereo = stereo.transform_points(pc, np.array(lonsharvey), np.array(latsharvey))\n",
    "# save to new file\n",
    "ds2 = ds['observation'].sel(x=slice(llharveystereo[:,0].min(), llharveystereo[:,0].max()),\n",
    "                      y=slice(llharveystereo[:,1].max(), llharveystereo[:,1].min()))\n",
    "                 \n",
    "\n",
    "# Set up x and y locations\n",
    "X, Y = np.meshgrid(ds2['x'].values, ds2['y'].values)\n",
    "\n",
    "# convert x and y locations to aea projection\n",
    "rainaea = aea.transform_points(stereo, X, Y)\n",
    "xrainaea = rainaea[:,:,0]; yrainaea = rainaea[:,:,1]\n",
    "# combine together\n",
    "xrainaea2 = np.hstack(((xrainaea[:,0]-abs(xrainaea[:,0]-xrainaea[:,1]))[:,np.newaxis],xrainaea))\n",
    "yrainaea2 = np.vstack(((yrainaea[0,:]+abs(yrainaea[0,:]-yrainaea[1,:]))[np.newaxis,:],yrainaea))\n",
    "\n",
    "# calculate rain grid cell area\n",
    "da = abs(xrainaea2[:,1:] - xrainaea2[:,:-1]) * abs(yrainaea2[1:,:] - yrainaea2[:-1,:])\n",
    "# change to xarray format\n",
    "da = xr.DataArray(da,coords=[ds2.y,ds2.x],dims=['y','x'])\n",
    "\n",
    "# convert rain array to m^3\n",
    "ds2['rain'] = ds2*2.54/100\n",
    "ds2.attrs = {'units': 'm', 'name': 'radar rain'}\n",
    "ds2['da'] = da\n",
    "ds2.attrs = {'units': 'm^2', 'name': 'grid cell area associated with rain'}\n",
    "\n",
    "fname = '%s/radar_rain_combined.nc' % baser\n",
    "if not os.path.exists(fname):\n",
    "    ds2.to_netcdf(fname)"
   ]
  },
  {
   "cell_type": "markdown",
   "metadata": {},
   "source": [
    "## Separate into regions"
   ]
  },
  {
   "cell_type": "markdown",
   "metadata": {},
   "source": [
    "Create shapely points"
   ]
  },
  {
   "cell_type": "code",
   "execution_count": 5,
   "metadata": {},
   "outputs": [],
   "source": [
    "# create Shapely Shapes out of rain grid cells\n",
    "# ds['x'], ds['y']\n",
    "rainpts = []\n",
    "for x, y, a in zip(xrainaea.flatten(), yrainaea.flatten(), da.values.flatten()):\n",
    "    rainpts.append(shapely.geometry.Point(x,y))\n",
    "    \n",
    "# flattened index to match rainpts\n",
    "irainpts = np.arange(len(rainpts))"
   ]
  },
  {
   "cell_type": "markdown",
   "metadata": {},
   "source": [
    "Separate radar rainfall into regions"
   ]
  },
  {
   "cell_type": "code",
   "execution_count": 6,
   "metadata": {},
   "outputs": [],
   "source": [
    "fname = '%s/radar.csv' % baser\n",
    "\n",
    "if not os.path.exists(fname):\n",
    "\n",
    "    # Find rain in each TWDB basin\n",
    "    iradar = []  # flattened indices identifying rainpts that are in this region\n",
    "    radar = pd.DataFrame(index=idgb + ['west', 'trinity', 'all'])#, data={'radar rain [m^3]': 0})\n",
    "    radar['irain'] = [[] for i in range(len(radar.index))]  # to hold list of indices\n",
    "    radar['rain [m^3]'] = [[] for i in range(len(radar.index))]  # to hold list of rain input\n",
    "    nt = ds2.time.size  # number of timesteps\n",
    "\n",
    "    # Loop over TWDB basins first\n",
    "    for basin in shapes_twdbbasins:\n",
    "\n",
    "        # save type\n",
    "        wstype = basin.attributes['WS_type']\n",
    "        if 'Lake Houston' in wstype: \n",
    "            kind = 'Lake Houston (gauged)'\n",
    "        elif 'Ungauged' in wstype or 'Ungaged' in wstype: \n",
    "            kind = 'ungauged'\n",
    "        elif 'Gauged' in wstype or 'Gaged' in wstype: \n",
    "            kind = 'gauged'\n",
    "        elif 'Bay' in wstype: \n",
    "            kind = 'bay'\n",
    "        else:\n",
    "            kind = 'unknown'\n",
    "\n",
    "        basinid = basin.attributes['WS_ID']\n",
    "\n",
    "        radar.loc[basinid,'kind'] = kind\n",
    "\n",
    "        for i, rainpt in enumerate(rainpts):  # loop over rain points\n",
    "            if basin.geometry.contains(rainpt):\n",
    "                radar.loc[basinid,'irain'].append(i)\n",
    "        # find radar rain for this region\n",
    "        # reshape to flatten y/x dimensions to use irain indices\n",
    "        inds = radar.loc[basinid, 'irain']\n",
    "        radar.loc[basinid,'rain [m^3]'] = list((ds2['rain'].values*da.values).reshape(nt,-1)[:,inds].sum(axis=1))    \n",
    "\n",
    "    # Add on other regions\n",
    "    shapes_west_full_aea = aea.project_geometry(shapes_west_full,pc)\n",
    "    basinid = 'west'\n",
    "    radar.loc[basinid,'kind'] = 'radar only'\n",
    "    for i, rainpt in enumerate(rainpts):  # loop over rain points\n",
    "        if shapes_west_full_aea.contains(rainpt):\n",
    "            radar.loc[basinid,'irain'].append(i)   \n",
    "    inds = radar.loc[basinid, 'irain']\n",
    "    radar.loc[basinid,'rain [m^3]'] = list((ds2['rain'].values*da.values).reshape(nt,-1)[:,inds].sum(axis=1))\n",
    "\n",
    "    shapes_trinity_full_aea = aea.project_geometry(shapes_trinity_full,pc)\n",
    "    basinid = 'trinity'\n",
    "    radar.loc[basinid,'kind'] = 'gauged (large)'\n",
    "    for i, rainpt in enumerate(rainpts):  # loop over rain points\n",
    "        if shapes_trinity_full_aea.contains(rainpt):\n",
    "            radar.loc[basinid,'irain'].append(i)\n",
    "    inds = radar.loc[basinid, 'irain']\n",
    "    radar.loc[basinid,'rain [m^3]'] = list((ds2['rain'].values*da.values).reshape(nt,-1)[:,inds].sum(axis=1))\n",
    "\n",
    "    shapes_gbay_full_aea = aea.project_geometry(shapes_gbay_full,pc)\n",
    "    basinid = 'all'\n",
    "    radar.loc[basinid,'kind'] = 'all'\n",
    "    for i, rainpt in enumerate(rainpts):  # loop over rain points\n",
    "        if shapes_gbay_full_aea.contains(rainpt):\n",
    "            radar.loc[basinid,'irain'].append(i)\n",
    "    inds = radar.loc[basinid, 'irain']\n",
    "    radar.loc[basinid,'rain [m^3]'] = list((ds2['rain'].values*da.values).reshape(nt,-1)[:,inds].sum(axis=1))\n",
    "\n",
    "    # calculate and save total rain\n",
    "    for ind in radar.index:\n",
    "        radar.loc[ind,'rain total [m^3]'] = np.sum(radar.loc[ind,'rain [m^3]'])\n",
    "\n",
    "    # save for future use\n",
    "    radar.to_csv(fname)\n",
    "\n",
    "else:\n",
    "    radar = pd.read_csv(fname, index_col=0)\n",
    "    # literal_eval allows reading in lists from csv file\n",
    "    radar['irain'] = radar['irain'].apply(literal_eval)\n",
    "    radar['rain [m^3]'] = radar['rain [m^3]'].apply(literal_eval)"
   ]
  },
  {
   "cell_type": "markdown",
   "metadata": {},
   "source": [
    "## Rainfall by region\n",
    "\n",
    "### Rainfall: full Galveston Bay Watershed"
   ]
  },
  {
   "cell_type": "code",
   "execution_count": 10,
   "metadata": {},
   "outputs": [
    {
     "data": {
      "text/plain": [
       "20.21958057301923"
      ]
     },
     "execution_count": 10,
     "metadata": {},
     "output_type": "execute_result"
    }
   ],
   "source": [
    "radar.loc['all','rain total [m^3]']/1000**3  # km^3"
   ]
  },
  {
   "cell_type": "code",
   "execution_count": 27,
   "metadata": {},
   "outputs": [
    {
     "data": {
      "text/plain": [
       "Text(0, 0.5, 'Rainfall [km^3]')"
      ]
     },
     "execution_count": 27,
     "metadata": {},
     "output_type": "execute_result"
    },
    {
     "data": {
      "image/png": "[encoded data removed]",
      "text/plain": [
       "<Figure size 432x288 with 1 Axes>"
      ]
     },
     "metadata": {
      "needs_background": "light"
     },
     "output_type": "display_data"
    }
   ],
   "source": [
    "plt.plot(ds.time, np.array(radar.loc['all','rain [m^3]'])/1000**3, marker='o')  # km^3\n",
    "plt.xticks(rotation=45)\n",
    "plt.ylabel('Rainfall [km^3]')"
   ]
  },
  {
   "cell_type": "markdown",
   "metadata": {},
   "source": [
    "### Rainfall: Galveston Bay itself"
   ]
  },
  {
   "cell_type": "code",
   "execution_count": 32,
   "metadata": {},
   "outputs": [
    {
     "data": {
      "text/plain": [
       "1.0604595081652326"
      ]
     },
     "execution_count": 32,
     "metadata": {},
     "output_type": "execute_result"
    }
   ],
   "source": [
    "radar[radar.kind == 'bay']['rain total [m^3]'].sum()/1000**3  # km^3"
   ]
  },
  {
   "cell_type": "markdown",
   "metadata": {},
   "source": [
    "### Rainfall: Trinity"
   ]
  },
  {
   "cell_type": "code",
   "execution_count": 12,
   "metadata": {},
   "outputs": [
    {
     "data": {
      "text/plain": [
       "4.773134133476542"
      ]
     },
     "execution_count": 12,
     "metadata": {},
     "output_type": "execute_result"
    }
   ],
   "source": [
    "radar.loc['trinity','rain total [m^3]']/1000**3  # km^3"
   ]
  },
  {
   "cell_type": "markdown",
   "metadata": {},
   "source": [
    "### Rainfall: Lake Houston"
   ]
  },
  {
   "cell_type": "code",
   "execution_count": 46,
   "metadata": {},
   "outputs": [
    {
     "data": {
      "text/plain": [
       "4.914720884025304"
      ]
     },
     "execution_count": 46,
     "metadata": {},
     "output_type": "execute_result"
    }
   ],
   "source": [
    "radar[radar.kind == 'Lake Houston (gauged)']['rain total [m^3]'].sum()/1000**3  # km^3"
   ]
  }
 ],
 "metadata": {
  "kernelspec": {
   "display_name": "Python 3",
   "language": "python",
   "name": "python3"
  },
  "language_info": {
   "codemirror_mode": {
    "name": "ipython",
    "version": 3
   },
   "file_extension": ".py",
   "mimetype": "text/x-python",
   "name": "python",
   "nbconvert_exporter": "python",
   "pygments_lexer": "ipython3",
   "version": "3.7.3"
  }
 },
 "nbformat": 4,
 "nbformat_minor": 2
}
