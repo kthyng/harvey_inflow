{
 "cells": [
  {
   "cell_type": "code",
   "execution_count": 26,
   "metadata": {},
   "outputs": [],
   "source": [
    "%run ./_setup.ipynb"
   ]
  },
  {
   "cell_type": "markdown",
   "metadata": {},
   "source": [
    "# Compare TWDB with Radar Precipitation"
   ]
  },
  {
   "cell_type": "markdown",
   "metadata": {},
   "source": [
    "## Read in radar data for each day of the storm"
   ]
  },
  {
   "cell_type": "code",
   "execution_count": 24,
   "metadata": {},
   "outputs": [
    {
     "name": "stdout",
     "output_type": "stream",
     "text": [
      "--2019-10-05 11:09:57--  https://water.weather.gov/precip/downloads/2017/08/25/nws_precip_1day_20170825_conus.nc\n",
      "Resolving water.weather.gov (water.weather.gov)... 104.73.167.46\n",
      "Connecting to water.weather.gov (water.weather.gov)|104.73.167.46|:443... connected.\n",
      "HTTP request sent, awaiting response... 200 OK\n",
      "Length: 4051253 (3.9M) [application/x-netcdf]\n",
      "Saving to: ‘nws_precip_1day_20170825_conus.nc’\n",
      "\n",
      "nws_precip_1day_201 100%[===================>]   3.86M  6.99MB/s    in 0.6s    \n",
      "\n",
      "2019-10-05 11:09:58 (6.99 MB/s) - ‘nws_precip_1day_20170825_conus.nc’ saved [4051253/4051253]\n",
      "\n",
      "--2019-10-05 11:09:58--  https://water.weather.gov/precip/downloads/2017/08/26/nws_precip_1day_20170826_conus.nc\n",
      "Resolving water.weather.gov (water.weather.gov)... 104.73.167.46\n",
      "Connecting to water.weather.gov (water.weather.gov)|104.73.167.46|:443... connected.\n",
      "HTTP request sent, awaiting response... 200 OK\n",
      "Length: 3995246 (3.8M) [application/x-netcdf]\n",
      "Saving to: ‘nws_precip_1day_20170826_conus.nc’\n",
      "\n",
      "nws_precip_1day_201 100%[===================>]   3.81M  3.95MB/s    in 1.0s    \n",
      "\n",
      "2019-10-05 11:10:00 (3.95 MB/s) - ‘nws_precip_1day_20170826_conus.nc’ saved [3995246/3995246]\n",
      "\n",
      "--2019-10-05 11:10:00--  https://water.weather.gov/precip/downloads/2017/08/27/nws_precip_1day_20170827_conus.nc\n",
      "Resolving water.weather.gov (water.weather.gov)... 104.73.167.46\n",
      "Connecting to water.weather.gov (water.weather.gov)|104.73.167.46|:443... connected.\n",
      "HTTP request sent, awaiting response... 200 OK\n",
      "Length: 3954637 (3.8M) [application/x-netcdf]\n",
      "Saving to: ‘nws_precip_1day_20170827_conus.nc’\n",
      "\n",
      "nws_precip_1day_201 100%[===================>]   3.77M  4.29MB/s    in 0.9s    \n",
      "\n",
      "2019-10-05 11:10:01 (4.29 MB/s) - ‘nws_precip_1day_20170827_conus.nc’ saved [3954637/3954637]\n",
      "\n",
      "--2019-10-05 11:10:01--  https://water.weather.gov/precip/downloads/2017/08/28/nws_precip_1day_20170828_conus.nc\n",
      "Resolving water.weather.gov (water.weather.gov)... 104.73.167.46\n",
      "Connecting to water.weather.gov (water.weather.gov)|104.73.167.46|:443... connected.\n",
      "HTTP request sent, awaiting response... 200 OK\n",
      "Length: 3972925 (3.8M) [application/x-netcdf]\n",
      "Saving to: ‘nws_precip_1day_20170828_conus.nc’\n",
      "\n",
      "nws_precip_1day_201 100%[===================>]   3.79M  3.44MB/s    in 1.1s    \n",
      "\n",
      "2019-10-05 11:10:03 (3.44 MB/s) - ‘nws_precip_1day_20170828_conus.nc’ saved [3972925/3972925]\n",
      "\n",
      "--2019-10-05 11:10:03--  https://water.weather.gov/precip/downloads/2017/08/29/nws_precip_1day_20170829_conus.nc\n",
      "Resolving water.weather.gov (water.weather.gov)... 104.73.167.46\n",
      "Connecting to water.weather.gov (water.weather.gov)|104.73.167.46|:443... connected.\n",
      "HTTP request sent, awaiting response... 200 OK\n",
      "Length: 3840779 (3.7M) [application/x-netcdf]\n",
      "Saving to: ‘nws_precip_1day_20170829_conus.nc’\n",
      "\n",
      "nws_precip_1day_201 100%[===================>]   3.66M  4.15MB/s    in 0.9s    \n",
      "\n",
      "2019-10-05 11:10:04 (4.15 MB/s) - ‘nws_precip_1day_20170829_conus.nc’ saved [3840779/3840779]\n",
      "\n",
      "--2019-10-05 11:10:05--  https://water.weather.gov/precip/downloads/2017/08/30/nws_precip_1day_20170830_conus.nc\n",
      "Resolving water.weather.gov (water.weather.gov)... 104.73.167.46\n",
      "Connecting to water.weather.gov (water.weather.gov)|104.73.167.46|:443... connected.\n",
      "HTTP request sent, awaiting response... 200 OK\n",
      "Length: 3696823 (3.5M) [application/x-netcdf]\n",
      "Saving to: ‘nws_precip_1day_20170830_conus.nc’\n",
      "\n",
      "nws_precip_1day_201 100%[===================>]   3.53M  4.26MB/s    in 0.8s    \n",
      "\n",
      "2019-10-05 11:10:06 (4.26 MB/s) - ‘nws_precip_1day_20170830_conus.nc’ saved [3696823/3696823]\n",
      "\n",
      "--2019-10-05 11:10:06--  https://water.weather.gov/precip/downloads/2017/08/31/nws_precip_1day_20170831_conus.nc\n",
      "Resolving water.weather.gov (water.weather.gov)... 104.73.167.46\n",
      "Connecting to water.weather.gov (water.weather.gov)|104.73.167.46|:443... connected.\n",
      "HTTP request sent, awaiting response... 200 OK\n",
      "Length: 3826967 (3.6M) [application/x-netcdf]\n",
      "Saving to: ‘nws_precip_1day_20170831_conus.nc’\n",
      "\n",
      "nws_precip_1day_201 100%[===================>]   3.65M  4.47MB/s    in 0.8s    \n",
      "\n",
      "2019-10-05 11:10:07 (4.47 MB/s) - ‘nws_precip_1day_20170831_conus.nc’ saved [3826967/3826967]\n",
      "\n"
     ]
    }
   ],
   "source": [
    "# create directory\n",
    "os.makedirs(baser, exist_ok=True)\n",
    "\n",
    "days = np.arange(25, 32)\n",
    "for day in days:\n",
    "    url = 'https://water.weather.gov/precip/downloads/2017/08/%i/nws_precip_1day_201708%i_conus.nc' % (day, day)\n",
    "    fname = url.split('/')[-1]\n",
    "\n",
    "    # this will download the file to the present file location\n",
    "    !wget $url\n",
    "    # move it to data directory\n",
    "    %mv $fname $baser"
   ]
  },
  {
   "cell_type": "markdown",
   "metadata": {},
   "source": [
    "# Create Points for Gridded Rain Locations"
   ]
  },
  {
   "cell_type": "code",
   "execution_count": 120,
   "metadata": {},
   "outputs": [
    {
     "data": {
      "text/plain": [
       "<xarray.Dataset>\n",
       "Dimensions:                (time: 7, x: 1121, y: 881)\n",
       "Coordinates:\n",
       "  * x                      (x) float64 -1.903e+06 -1.898e+06 ... 3.432e+06\n",
       "  * y                      (y) float64 -3.426e+06 -3.431e+06 ... -7.618e+06\n",
       "  * time                   (time) datetime64[ns] 2017-08-25 ... 2017-08-31\n",
       "Data variables:\n",
       "    crs                    (time) int32 -2147483647 -2147483647 ... -2147483647\n",
       "    observation            (time, y, x) float64 nan nan nan nan ... nan nan nan\n",
       "    normal                 (time, y, x) float32 nan nan nan nan ... nan nan nan\n",
       "    departure_from_normal  (time, y, x) float32 nan nan nan nan ... nan nan nan\n",
       "    percent_of_normal      (time, y, x) float32 nan nan nan nan ... nan nan nan\n",
       "Attributes:\n",
       "    creation_time:  20190314T180953\n",
       "    data_time:      20170825\n",
       "    Conventions:    CF-1.6"
      ]
     },
     "execution_count": 120,
     "metadata": {},
     "output_type": "execute_result"
    }
   ],
   "source": [
    "Files = sorted(glob('%s/nws_precip_1day_201708??_conus.nc' % baser))\n",
    "# File = Files[0]\n",
    "# Read in rain data\n",
    "# ds = xr.open_dataset(File)\n",
    "ds = xr.open_mfdataset(Files, concat_dim='time', combine='nested')\n",
    "\n",
    "# Set up x and y locations\n",
    "X, Y = np.meshgrid(ds['x'].values, ds['y'].values)\n",
    "\n",
    "# # convert x and y locations to aea projection\n",
    "# rainaea = aea.transform_points(stereo, X, Y)\n",
    "# xrainaea = rainaea[:,:,0]; yrainaea = rainaea[:,:,1]\n",
    "# # combine together\n",
    "# xrainaea2 = np.hstack(((xrainaea[:,0]-abs(xrainaea[:,0]-xrainaea[:,1]))[:,np.newaxis],xrainaea))\n",
    "# yrainaea2 = np.vstack(((yrainaea[0,:]+abs(yrainaea[0,:]-yrainaea[1,:]))[np.newaxis,:],yrainaea))\n",
    "\n",
    "# # calculate rain grid cell area\n",
    "# da = abs(xrainaea2[:,1:] - xrainaea2[:,:-1]) * abs(yrainaea2[1:,:] - yrainaea2[:-1,:])\n",
    "\n",
    "\n",
    "# convert rain array to m^3\n",
    "ds['observation'] = ds['observation']*2.54/100*da\n",
    "\n",
    "ds"
   ]
  },
  {
   "cell_type": "markdown",
   "metadata": {},
   "source": [
    "## Find indices for rain by region"
   ]
  },
  {
   "cell_type": "code",
   "execution_count": 121,
   "metadata": {},
   "outputs": [],
   "source": [
    "# radar = pd.read_csv('%s/radar.csv' % baser, index_col=0, dtype={'irain': list})\n",
    "radar = pd.read_pickle('%s/radar.pkl' % baser)"
   ]
  },
  {
   "cell_type": "code",
   "execution_count": 122,
   "metadata": {},
   "outputs": [
    {
     "data": {
      "text/html": [
       "<div>\n",
       "<style scoped>\n",
       "    .dataframe tbody tr th:only-of-type {\n",
       "        vertical-align: middle;\n",
       "    }\n",
       "\n",
       "    .dataframe tbody tr th {\n",
       "        vertical-align: top;\n",
       "    }\n",
       "\n",
       "    .dataframe thead th {\n",
       "        text-align: right;\n",
       "    }\n",
       "</style>\n",
       "<table border=\"1\" class=\"dataframe\">\n",
       "  <thead>\n",
       "    <tr style=\"text-align: right;\">\n",
       "      <th></th>\n",
       "      <th>radar rain [m^3]</th>\n",
       "      <th>irain</th>\n",
       "      <th>kind</th>\n",
       "    </tr>\n",
       "  </thead>\n",
       "  <tbody>\n",
       "    <tr>\n",
       "      <td>10120</td>\n",
       "      <td>5.927724e+08</td>\n",
       "      <td>[766273, 766274, 766275, 767390, 767391, 76739...</td>\n",
       "      <td>Lake Houston (gauged)</td>\n",
       "    </tr>\n",
       "    <tr>\n",
       "      <td>10030</td>\n",
       "      <td>6.420432e+08</td>\n",
       "      <td>[765159, 765160, 766280, 766281, 766282, 76628...</td>\n",
       "      <td>Lake Houston (gauged)</td>\n",
       "    </tr>\n",
       "    <tr>\n",
       "      <td>10111</td>\n",
       "      <td>1.809350e+08</td>\n",
       "      <td>[773007, 773008, 774129, 774130, 774131, 77525...</td>\n",
       "      <td>Lake Houston (gauged)</td>\n",
       "    </tr>\n",
       "    <tr>\n",
       "      <td>...</td>\n",
       "      <td>...</td>\n",
       "      <td>...</td>\n",
       "      <td>...</td>\n",
       "    </tr>\n",
       "    <tr>\n",
       "      <td>west</td>\n",
       "      <td>9.057606e+08</td>\n",
       "      <td>[799902, 801023, 801024, 801025, 801026, 80102...</td>\n",
       "      <td>radar only</td>\n",
       "    </tr>\n",
       "    <tr>\n",
       "      <td>trinity</td>\n",
       "      <td>4.654041e+09</td>\n",
       "      <td>[679902, 679903, 679905, 679906, 679907, 67990...</td>\n",
       "      <td>gauged (large)</td>\n",
       "    </tr>\n",
       "    <tr>\n",
       "      <td>all</td>\n",
       "      <td>2.006953e+10</td>\n",
       "      <td>[679902, 679903, 679905, 679906, 679907, 67990...</td>\n",
       "      <td>all</td>\n",
       "    </tr>\n",
       "  </tbody>\n",
       "</table>\n",
       "<p>62 rows × 3 columns</p>\n",
       "</div>"
      ],
      "text/plain": [
       "         radar rain [m^3]                                              irain  \\\n",
       "10120        5.927724e+08  [766273, 766274, 766275, 767390, 767391, 76739...   \n",
       "10030        6.420432e+08  [765159, 765160, 766280, 766281, 766282, 76628...   \n",
       "10111        1.809350e+08  [773007, 773008, 774129, 774130, 774131, 77525...   \n",
       "...                   ...                                                ...   \n",
       "west         9.057606e+08  [799902, 801023, 801024, 801025, 801026, 80102...   \n",
       "trinity      4.654041e+09  [679902, 679903, 679905, 679906, 679907, 67990...   \n",
       "all          2.006953e+10  [679902, 679903, 679905, 679906, 679907, 67990...   \n",
       "\n",
       "                          kind  \n",
       "10120    Lake Houston (gauged)  \n",
       "10030    Lake Houston (gauged)  \n",
       "10111    Lake Houston (gauged)  \n",
       "...                        ...  \n",
       "west                radar only  \n",
       "trinity         gauged (large)  \n",
       "all                        all  \n",
       "\n",
       "[62 rows x 3 columns]"
      ]
     },
     "execution_count": 122,
     "metadata": {},
     "output_type": "execute_result"
    }
   ],
   "source": [
    "radar"
   ]
  },
  {
   "cell_type": "code",
   "execution_count": 123,
   "metadata": {},
   "outputs": [],
   "source": [
    "rain = np.zeros(ds.time.size)\n",
    "inds = radar.loc['all', 'irain']\n",
    "for i, time in enumerate(ds.time):\n",
    "    rain[i] = ds['observation'].sel(time=time).values.flat[inds].sum()"
   ]
  },
  {
   "cell_type": "code",
   "execution_count": 124,
   "metadata": {},
   "outputs": [
    {
     "data": {
      "text/plain": [
       "[<matplotlib.lines.Line2D at 0x11e832dd8>]"
      ]
     },
     "execution_count": 124,
     "metadata": {},
     "output_type": "execute_result"
    },
    {
     "data": {
      "image/png": "[encoded data removed]",
      "text/plain": [
       "<Figure size 432x288 with 1 Axes>"
      ]
     },
     "metadata": {
      "needs_background": "light"
     },
     "output_type": "display_data"
    }
   ],
   "source": [
    "plt.plot(ds.time, rain/86400)"
   ]
  },
  {
   "cell_type": "code",
   "execution_count": 108,
   "metadata": {},
   "outputs": [
    {
     "data": {
      "text/plain": [
       "[<matplotlib.lines.Line2D at 0x11ec573c8>]"
      ]
     },
     "execution_count": 108,
     "metadata": {},
     "output_type": "execute_result"
    },
    {
     "data": {
      "image/png": "[encoded data removed]",
      "text/plain": [
       "<Figure size 432x288 with 1 Axes>"
      ]
     },
     "metadata": {
      "needs_background": "light"
     },
     "output_type": "display_data"
    }
   ],
   "source": [
    "plt.plot(np.cumsum(rain/1000**3))"
   ]
  },
  {
   "cell_type": "code",
   "execution_count": null,
   "metadata": {},
   "outputs": [],
   "source": [
    "# plotting"
   ]
  },
  {
   "cell_type": "code",
   "execution_count": 96,
   "metadata": {},
   "outputs": [
    {
     "data": {
      "text/plain": [
       "<matplotlib.collections.QuadMesh at 0x11b1aaf28>"
      ]
     },
     "execution_count": 96,
     "metadata": {},
     "output_type": "execute_result"
    },
    {
     "data": {
      "image/png": "[encoded data removed]",
      "text/plain": [
       "<Figure size 432x288 with 1 Axes>"
      ]
     },
     "metadata": {
      "needs_background": "light"
     },
     "output_type": "display_data"
    }
   ],
   "source": [
    "ds0 = ds['observation'].sel(time='2017-8-25')\n",
    "store = np.zeros_like(ds0).flatten()*np.nan\n",
    "inds = radar.loc['all', 'irain']\n",
    "store[inds] = ds0.values.flat[inds]\n",
    "plt.pcolormesh(store.reshape(ds0.shape))"
   ]
  },
  {
   "cell_type": "code",
   "execution_count": null,
   "metadata": {},
   "outputs": [],
   "source": []
  }
 ],
 "metadata": {
  "kernelspec": {
   "display_name": "Python 3",
   "language": "python",
   "name": "python3"
  },
  "language_info": {
   "codemirror_mode": {
    "name": "ipython",
    "version": 3
   },
   "file_extension": ".py",
   "mimetype": "text/x-python",
   "name": "python",
   "nbconvert_exporter": "python",
   "pygments_lexer": "ipython3",
   "version": "3.7.3"
  }
 },
 "nbformat": 4,
 "nbformat_minor": 2
}
